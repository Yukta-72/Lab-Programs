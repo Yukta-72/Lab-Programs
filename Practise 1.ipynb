{
 "cells": [
  {
   "cell_type": "code",
   "execution_count": 1,
   "metadata": {},
   "outputs": [
    {
     "name": "stdout",
     "output_type": "stream",
     "text": [
      "Hello,World!\n",
      "Yukta-72\n"
     ]
    }
   ],
   "source": [
    "print('Hello,World!')\n",
    "print('Yukta-72')"
   ]
  },
  {
   "cell_type": "code",
   "execution_count": 2,
   "metadata": {},
   "outputs": [
    {
     "name": "stdout",
     "output_type": "stream",
     "text": [
      "The sum of 5.0 and 4.1 is 9.1\n",
      "Yukta-72\n"
     ]
    }
   ],
   "source": [
    "num1=5.0\n",
    "num2=4.1\n",
    "sum=num1+num2\n",
    "print('The sum of {0} and {1} is {2}'.format(num1,num2,sum))\n",
    "print('Yukta-72')"
   ]
  },
  {
   "cell_type": "code",
   "execution_count": 3,
   "metadata": {},
   "outputs": [
    {
     "name": "stdout",
     "output_type": "stream",
     "text": [
      "The square root of 8.000 is 2.828\n",
      "Yukta-72\n"
     ]
    }
   ],
   "source": [
    "num=8\n",
    "num_sqrt=num**0.5\n",
    "print('The square root of %0.3f is %0.3f'%(num,num_sqrt))\n",
    "print('Yukta-72')"
   ]
  },
  {
   "cell_type": "code",
   "execution_count": 4,
   "metadata": {},
   "outputs": [
    {
     "name": "stdout",
     "output_type": "stream",
     "text": [
      "The area of triangle is 14.70\n",
      "Yukta-72\n"
     ]
    }
   ],
   "source": [
    "a=5\n",
    "b=6\n",
    "c=7\n",
    "s=(a+b+c)/2\n",
    "area=(s*(s-a)*(s-b)*(s-c))**0.5\n",
    "print('The area of triangle is %0.2f'%area)\n",
    "print('Yukta-72')\n"
   ]
  },
  {
   "cell_type": "code",
   "execution_count": 5,
   "metadata": {},
   "outputs": [
    {
     "name": "stdout",
     "output_type": "stream",
     "text": [
      "The solution are (-3+0j) and (-2+0j)\n",
      "Yukta-72\n"
     ]
    }
   ],
   "source": [
    "import cmath\n",
    "a=1\n",
    "b=5\n",
    "c=6\n",
    "d=(b**2)-(4*a*c)\n",
    "sol1=(-b-cmath.sqrt(d))/(2*a)\n",
    "sol2=(-b+cmath.sqrt(d))/(2*a)\n",
    "print('The solution are {0} and {1}'.format(sol1,sol2))\n",
    "print('Yukta-72')"
   ]
  },
  {
   "cell_type": "code",
   "execution_count": 6,
   "metadata": {},
   "outputs": [
    {
     "name": "stdout",
     "output_type": "stream",
     "text": [
      "The value of x after swapping: 10\n",
      "The value of y after swapping: 5\n",
      "Yukta-72\n"
     ]
    }
   ],
   "source": [
    "x=5\n",
    "y=10\n",
    "temp=x\n",
    "x=y\n",
    "y=temp\n",
    "print('The value of x after swapping: {}'.format(x))\n",
    "print('The value of y after swapping: {}'.format(y))\n",
    "print('Yukta-72')"
   ]
  },
  {
   "cell_type": "code",
   "execution_count": 8,
   "metadata": {},
   "outputs": [
    {
     "name": "stdout",
     "output_type": "stream",
     "text": [
      "17\n",
      "Yukta-72\n"
     ]
    }
   ],
   "source": [
    "import random\n",
    "print(random.randint(0,20))\n",
    "print('Yukta-72')"
   ]
  },
  {
   "cell_type": "code",
   "execution_count": 11,
   "metadata": {},
   "outputs": [
    {
     "name": "stdout",
     "output_type": "stream",
     "text": [
      "Enter value in kilometers:20\n",
      "20.00 kilometers is equal to 12.43 miles\n",
      "Yukta-72\n"
     ]
    }
   ],
   "source": [
    "kilometers=float(input(\"Enter value in kilometers:\"))\n",
    "conv_fac=0.621371\n",
    "miles=kilometers*conv_fac\n",
    "print('%0.2f kilometers is equal to %0.2f miles'%(kilometers,miles))\n",
    "print('Yukta-72')"
   ]
  },
  {
   "cell_type": "code",
   "execution_count": 12,
   "metadata": {},
   "outputs": [
    {
     "name": "stdout",
     "output_type": "stream",
     "text": [
      "37.5 degree Celsius is equal to 99.5 degree Fahrenheit\n",
      "Yukta-72\n"
     ]
    }
   ],
   "source": [
    "celsius=37.5\n",
    "fahrenheit= (celsius*1.8) + 32\n",
    "print('%0.1f degree Celsius is equal to %0.1f degree Fahrenheit'%(celsius,fahrenheit))\n",
    "print('Yukta-72')"
   ]
  },
  {
   "cell_type": "code",
   "execution_count": null,
   "metadata": {},
   "outputs": [],
   "source": []
  }
 ],
 "metadata": {
  "kernelspec": {
   "display_name": "Python 3",
   "language": "python",
   "name": "python3"
  },
  "language_info": {
   "codemirror_mode": {
    "name": "ipython",
    "version": 3
   },
   "file_extension": ".py",
   "mimetype": "text/x-python",
   "name": "python",
   "nbconvert_exporter": "python",
   "pygments_lexer": "ipython3",
   "version": "3.7.6"
  }
 },
 "nbformat": 4,
 "nbformat_minor": 4
}
